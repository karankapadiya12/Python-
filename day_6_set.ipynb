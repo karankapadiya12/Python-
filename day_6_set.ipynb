{
  "nbformat": 4,
  "nbformat_minor": 0,
  "metadata": {
    "colab": {
      "name": "day 6 set.ipynb",
      "provenance": [],
      "collapsed_sections": [],
      "authorship_tag": "ABX9TyPp2br+pqaKViNN5UHT4Fn4",
      "include_colab_link": true
    },
    "kernelspec": {
      "name": "python3",
      "display_name": "Python 3"
    },
    "language_info": {
      "name": "python"
    }
  },
  "cells": [
    {
      "cell_type": "markdown",
      "metadata": {
        "id": "view-in-github",
        "colab_type": "text"
      },
      "source": [
        "<a href=\"https://colab.research.google.com/github/karankapadiya12/Python-/blob/main/day_6_set.ipynb\" target=\"_parent\"><img src=\"https://colab.research.google.com/assets/colab-badge.svg\" alt=\"Open In Colab\"/></a>"
      ]
    },
    {
      "cell_type": "code",
      "execution_count": null,
      "metadata": {
        "colab": {
          "base_uri": "https://localhost:8080/"
        },
        "id": "7ohBmjvGkdb7",
        "outputId": "a2e919e7-f0c8-4cb7-9cb5-2185e45825d3"
      },
      "outputs": [
        {
          "output_type": "execute_result",
          "data": {
            "text/plain": [
              "{1, 2, 4, 5}"
            ]
          },
          "metadata": {},
          "execution_count": 1
        }
      ],
      "source": [
        "set1 = {1,2,3,4,5}\n",
        "set2 = {6,7,8,9,10}\n",
        "set1.remove(3)\n",
        "set1"
      ]
    },
    {
      "cell_type": "code",
      "source": [
        "s2 = {10,21,30,21}\n",
        "s2.discard(21) "
      ],
      "metadata": {
        "id": "rMrBH11DoxI-"
      },
      "execution_count": null,
      "outputs": []
    },
    {
      "cell_type": "code",
      "source": [
        "s2"
      ],
      "metadata": {
        "colab": {
          "base_uri": "https://localhost:8080/"
        },
        "id": "hStY2emVpIi5",
        "outputId": "c3d8bbb8-d6ea-4512-de26-f369c4df4b98"
      },
      "execution_count": null,
      "outputs": [
        {
          "output_type": "execute_result",
          "data": {
            "text/plain": [
              "{10, 30}"
            ]
          },
          "metadata": {},
          "execution_count": 3
        }
      ]
    },
    {
      "cell_type": "code",
      "source": [
        "#set Add  \n",
        "a = {\"karan\",\"rahul\", \"kumar\"}\n",
        "a.add(\"alpesh\")\n",
        "a"
      ],
      "metadata": {
        "colab": {
          "base_uri": "https://localhost:8080/"
        },
        "id": "-MGaJp1HpKIQ",
        "outputId": "33339b09-388c-4ccd-9450-71b480574382"
      },
      "execution_count": 2,
      "outputs": [
        {
          "output_type": "execute_result",
          "data": {
            "text/plain": [
              "{'alpesh', 'karan', 'kumar', 'rahul'}"
            ]
          },
          "metadata": {},
          "execution_count": 2
        }
      ]
    },
    {
      "cell_type": "code",
      "source": [
        "#set clear\n",
        "set3 = {1,2,3,4,5,6,7}\n",
        "set3.clear()\n",
        "set3"
      ],
      "metadata": {
        "colab": {
          "base_uri": "https://localhost:8080/"
        },
        "id": "oOvXOYaUrz7G",
        "outputId": "b718fd25-74da-40bd-8034-bfff0714d31e"
      },
      "execution_count": null,
      "outputs": [
        {
          "output_type": "execute_result",
          "data": {
            "text/plain": [
              "set()"
            ]
          },
          "metadata": {},
          "execution_count": 8
        }
      ]
    },
    {
      "cell_type": "code",
      "source": [
        "# Set copy\n",
        "fruits = {\"Apple\" , \"Kiwi\" , \"Banana\"}\n",
        "x = fruits.copy()\n",
        "print(x)\n"
      ],
      "metadata": {
        "id": "ltG-SlaotbVg",
        "colab": {
          "base_uri": "https://localhost:8080/"
        },
        "outputId": "1f255cb6-a459-4fa1-ff77-2e8410f3fd42"
      },
      "execution_count": 6,
      "outputs": [
        {
          "output_type": "execute_result",
          "data": {
            "text/plain": [
              "{'Apple', 'Banana', 'Kiwi'}"
            ]
          },
          "metadata": {},
          "execution_count": 6
        }
      ]
    },
    {
      "cell_type": "code",
      "source": [
        "#Set diffrence \n",
        "s1 = {\"Football\",\"Cricket\",\"Tenns\"}\n",
        "s2 = {\"Apple\" , \"Kiwi\" , \"Banana\" , \"Football\" , \"Cricket\"}\n",
        "z = s1.difference(s2)           #same value are not include\n",
        "x = s2.difference(s1)\n",
        "print(z)\n",
        "print(x)"
      ],
      "metadata": {
        "colab": {
          "base_uri": "https://localhost:8080/"
        },
        "id": "mtMXJUp7mJZ-",
        "outputId": "484e925e-ccb6-4b08-bff4-ed7dfbf13512"
      },
      "execution_count": 9,
      "outputs": [
        {
          "output_type": "stream",
          "name": "stdout",
          "text": [
            "{'Tenns'}\n",
            "{'Kiwi', 'Banana', 'Apple'}\n"
          ]
        }
      ]
    },
    {
      "cell_type": "code",
      "source": [
        "#Set differnce_update\n",
        "s3 = {\"Football\",\"Cricket\",\"Tenns\",\"hockey\"}\n",
        "s4 = {\"Apple\" , \"Kiwi\" , \"Banana\" , \"Football\" , \"Cricket\"} # same value \n",
        "s3.difference_update(s4)\n",
        "s3"
      ],
      "metadata": {
        "colab": {
          "base_uri": "https://localhost:8080/"
        },
        "id": "Fj1ig6v7oNjc",
        "outputId": "c05557b0-be45-46a0-afa2-63de6e82aeaa"
      },
      "execution_count": 13,
      "outputs": [
        {
          "output_type": "execute_result",
          "data": {
            "text/plain": [
              "{'Tenns', 'hockey'}"
            ]
          },
          "metadata": {},
          "execution_count": 13
        }
      ]
    },
    {
      "cell_type": "code",
      "source": [
        "#Set intersection\n",
        "s3 = {\"Football\",\"Cricket\",\"Tenns\",\"hockey\"}\n",
        "s4 = {\"Apple\" , \"Kiwi\" , \"Banana\" , \"Football\" , \"Cricket\"}\n",
        "s5 = s3.intersection(s4)                                    # same value\n",
        "s5"
      ],
      "metadata": {
        "colab": {
          "base_uri": "https://localhost:8080/"
        },
        "id": "MadDRwKjpttN",
        "outputId": "e20edcaf-197d-4aa7-e938-3d43e713d308"
      },
      "execution_count": 16,
      "outputs": [
        {
          "output_type": "execute_result",
          "data": {
            "text/plain": [
              "{'Cricket', 'Football'}"
            ]
          },
          "metadata": {},
          "execution_count": 16
        }
      ]
    },
    {
      "cell_type": "code",
      "source": [
        "#Set union\n",
        "a = {1,2,6}\n",
        "b = {2,5,4,3,10,12}\n",
        "c = {2,6,5,7,8,9}\n",
        "d = a.union(b,c)            #all elements in set but don't repeat \n",
        "d"
      ],
      "metadata": {
        "colab": {
          "base_uri": "https://localhost:8080/"
        },
        "id": "tKklOqURrQmm",
        "outputId": "22b01c29-34b2-4a11-8787-0f43419bc0ee"
      },
      "execution_count": 20,
      "outputs": [
        {
          "output_type": "execute_result",
          "data": {
            "text/plain": [
              "{1, 2, 3, 4, 5, 6, 7, 8, 9, 10, 12}"
            ]
          },
          "metadata": {},
          "execution_count": 20
        }
      ]
    },
    {
      "cell_type": "code",
      "source": [
        "#Set isdisjoint\n",
        "a = {\"div\" , \"rahul\" , \"karan\"}\n",
        "#b = {\"div\" , \"bhargav\" , \"dhaval\"} # one items in set than give me a True\n",
        "b = {\"bhargav\" , \"dhaval\"}\n",
        "c = a.isdisjoint(b)\n",
        "c"
      ],
      "metadata": {
        "colab": {
          "base_uri": "https://localhost:8080/"
        },
        "id": "uD6ZsLEtsk01",
        "outputId": "6ac518cf-7dcd-4d5f-d25a-94ebfcd64395"
      },
      "execution_count": 22,
      "outputs": [
        {
          "output_type": "execute_result",
          "data": {
            "text/plain": [
              "True"
            ]
          },
          "metadata": {},
          "execution_count": 22
        }
      ]
    },
    {
      "cell_type": "code",
      "source": [
        "#Set issubset\n",
        "x = {1,2,3,4,5,6}\n",
        "#y = {2,3,4}\n",
        "y = {1,2,3,4,5,6}   # all items in set than give me a True\n",
        "z = x.issubset(y)\n",
        "z  "
      ],
      "metadata": {
        "colab": {
          "base_uri": "https://localhost:8080/"
        },
        "id": "_QfHzfoNt1o_",
        "outputId": "5f83eead-ea72-4f80-b849-3d47633c3f6a"
      },
      "execution_count": 25,
      "outputs": [
        {
          "output_type": "execute_result",
          "data": {
            "text/plain": [
              "True"
            ]
          },
          "metadata": {},
          "execution_count": 25
        }
      ]
    },
    {
      "cell_type": "code",
      "source": [
        "# Set pop / remove\n",
        "x = {10,20,30}\n",
        "y = {50,20,90}\n",
        "x.pop()             #This method returns the removed item. removed first element\n",
        "x.pop()             #remove second element\n",
        "y.remove(50)    #The remove() method removes the specified element from the set.\n",
        "x\n",
        "y"
      ],
      "metadata": {
        "colab": {
          "base_uri": "https://localhost:8080/"
        },
        "id": "WfFWsz25url5",
        "outputId": "44175afd-35f0-48b6-9ccf-0663b464d29a"
      },
      "execution_count": 29,
      "outputs": [
        {
          "output_type": "execute_result",
          "data": {
            "text/plain": [
              "{20, 90}"
            ]
          },
          "metadata": {},
          "execution_count": 29
        }
      ]
    },
    {
      "cell_type": "code",
      "source": [
        "#Set symetric\n",
        "a = {1,2,3,45,6}\n",
        "b = {2,60,50,4,0,45}\n",
        "c = a.symmetric_difference(b) # contains all items from both set, but not the items that are present in both sets.\n",
        "c"
      ],
      "metadata": {
        "colab": {
          "base_uri": "https://localhost:8080/"
        },
        "id": "TMk9MCWWvrEw",
        "outputId": "c7753594-445c-4571-af39-8ed2fbff1493"
      },
      "execution_count": 35,
      "outputs": [
        {
          "output_type": "execute_result",
          "data": {
            "text/plain": [
              "{0, 1, 3, 4, 6, 50, 60}"
            ]
          },
          "metadata": {},
          "execution_count": 35
        }
      ]
    },
    {
      "cell_type": "code",
      "source": [
        "#Set symmetric_difference_update\n",
        "a = {1,2,3,45,6,600,555}\n",
        "b = {1,2,60,50,4,0,100,20}\n",
        "a.symmetric_difference_update(b) #same value are not include\n",
        "a"
      ],
      "metadata": {
        "colab": {
          "base_uri": "https://localhost:8080/"
        },
        "id": "iJ9qjlGlyil4",
        "outputId": "51f7921a-046e-4d38-942b-1e0b0dfb34ba"
      },
      "execution_count": 41,
      "outputs": [
        {
          "output_type": "execute_result",
          "data": {
            "text/plain": [
              "{0, 3, 4, 6, 20, 45, 50, 60, 100, 555, 600}"
            ]
          },
          "metadata": {},
          "execution_count": 41
        }
      ]
    },
    {
      "cell_type": "code",
      "source": [
        ""
      ],
      "metadata": {
        "id": "flcWORrJzp3l"
      },
      "execution_count": null,
      "outputs": []
    }
  ]
}