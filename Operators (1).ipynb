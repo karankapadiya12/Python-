{
  "nbformat": 4,
  "nbformat_minor": 0,
  "metadata": {
    "colab": {
      "name": "Operators.ipynb",
      "provenance": [],
      "collapsed_sections": []
    },
    "kernelspec": {
      "name": "python3",
      "display_name": "Python 3"
    },
    "language_info": {
      "name": "python"
    }
  },
  "cells": [
    {
      "cell_type": "code",
      "execution_count": null,
      "metadata": {
        "colab": {
          "base_uri": "https://localhost:8080/"
        },
        "id": "kJ6Sizy2ebOH",
        "outputId": "ec9f57cf-d409-46f1-91f2-368415a0231d"
      },
      "outputs": [
        {
          "output_type": "execute_result",
          "data": {
            "text/plain": [
              "5"
            ]
          },
          "metadata": {},
          "execution_count": 1
        }
      ],
      "source": [
        "95%6\n"
      ]
    },
    {
      "cell_type": "code",
      "source": [
        "55//5\n"
      ],
      "metadata": {
        "colab": {
          "base_uri": "https://localhost:8080/"
        },
        "id": "oNajqWlMhzLF",
        "outputId": "e8b13d46-b02c-4641-a50e-39d6a6ca180b"
      },
      "execution_count": null,
      "outputs": [
        {
          "output_type": "execute_result",
          "data": {
            "text/plain": [
              "11"
            ]
          },
          "metadata": {},
          "execution_count": 2
        }
      ]
    },
    {
      "cell_type": "code",
      "source": [
        "56//6"
      ],
      "metadata": {
        "colab": {
          "base_uri": "https://localhost:8080/"
        },
        "id": "Vjx26TSUh5E4",
        "outputId": "dc255e44-429c-4dbb-9098-e1f267991087"
      },
      "execution_count": null,
      "outputs": [
        {
          "output_type": "execute_result",
          "data": {
            "text/plain": [
              "9"
            ]
          },
          "metadata": {},
          "execution_count": 3
        }
      ]
    },
    {
      "cell_type": "code",
      "source": [
        "5**2"
      ],
      "metadata": {
        "colab": {
          "base_uri": "https://localhost:8080/"
        },
        "id": "azR-rVBoh7nv",
        "outputId": "e3a8b57d-f458-42dd-c80c-e38705eff883"
      },
      "execution_count": null,
      "outputs": [
        {
          "output_type": "execute_result",
          "data": {
            "text/plain": [
              "25"
            ]
          },
          "metadata": {},
          "execution_count": 4
        }
      ]
    },
    {
      "cell_type": "code",
      "source": [
        "x = 15\n",
        "x-=5\n",
        "print(x)"
      ],
      "metadata": {
        "colab": {
          "base_uri": "https://localhost:8080/"
        },
        "id": "vlT66kM2h_D1",
        "outputId": "09e34c4b-f730-4230-bb7c-40984462dad2"
      },
      "execution_count": null,
      "outputs": [
        {
          "output_type": "stream",
          "name": "stdout",
          "text": [
            "10\n"
          ]
        }
      ]
    },
    {
      "cell_type": "code",
      "source": [
        "#Python Arithmetic Operators ( + / - / * / (/) / ** / (//) /\n",
        "a = 20\n",
        "b = 30\n",
        "c = a + b\n",
        "d = a - b\n",
        "e = a * b\n",
        "f = a / b\n",
        "g = a ** b\n",
        "h = a // b\n",
        "print(c)\n",
        "print(d)\n",
        "print(e)\n",
        "print(f)\n",
        "print(g)\n",
        "print(h)\n"
      ],
      "metadata": {
        "colab": {
          "base_uri": "https://localhost:8080/"
        },
        "id": "bdP31wemkfFi",
        "outputId": "b748ef1d-6b69-4a15-b0a4-2f57f5ac7a89"
      },
      "execution_count": null,
      "outputs": [
        {
          "output_type": "stream",
          "name": "stdout",
          "text": [
            "50\n",
            "-10\n",
            "600\n",
            "0.6666666666666666\n",
            "1073741824000000000000000000000000000000\n",
            "0\n"
          ]
        }
      ]
    },
    {
      "cell_type": "code",
      "source": [
        "#Python Assignment Operators ( += / -= / *= /  /= / %= / // / ** / \n",
        "x = 5\n",
        "print(x)\n",
        "\n",
        "\n",
        "\n"
      ],
      "metadata": {
        "colab": {
          "base_uri": "https://localhost:8080/"
        },
        "id": "m3Yhd4yMq42D",
        "outputId": "499322cc-1f07-4cb3-e526-04067c446521"
      },
      "execution_count": null,
      "outputs": [
        {
          "output_type": "stream",
          "name": "stdout",
          "text": [
            "5\n"
          ]
        }
      ]
    },
    {
      "cell_type": "code",
      "source": [
        "x = 10\n",
        "x += 5\n",
        "x"
      ],
      "metadata": {
        "id": "UBBwOov6wq9A",
        "colab": {
          "base_uri": "https://localhost:8080/"
        },
        "outputId": "c90ae792-caed-41b1-b39a-18a55ab6cadb"
      },
      "execution_count": null,
      "outputs": [
        {
          "output_type": "execute_result",
          "data": {
            "text/plain": [
              "15"
            ]
          },
          "metadata": {},
          "execution_count": 3
        }
      ]
    },
    {
      "cell_type": "code",
      "source": [
        "x = 15\n",
        "x -= 6\n",
        "x"
      ],
      "metadata": {
        "colab": {
          "base_uri": "https://localhost:8080/"
        },
        "id": "hs8oQYWhcRRH",
        "outputId": "adff2fdf-b73f-4c5e-f390-e64f7d16a8e5"
      },
      "execution_count": null,
      "outputs": [
        {
          "output_type": "execute_result",
          "data": {
            "text/plain": [
              "9"
            ]
          },
          "metadata": {},
          "execution_count": 4
        }
      ]
    },
    {
      "cell_type": "code",
      "source": [
        "x = 50\n",
        "x *= 5\n",
        "x"
      ],
      "metadata": {
        "colab": {
          "base_uri": "https://localhost:8080/"
        },
        "id": "k4S8roricXcH",
        "outputId": "71f768fc-bdb9-4208-cc08-daa18bf805e2"
      },
      "execution_count": null,
      "outputs": [
        {
          "output_type": "execute_result",
          "data": {
            "text/plain": [
              "250"
            ]
          },
          "metadata": {},
          "execution_count": 5
        }
      ]
    },
    {
      "cell_type": "code",
      "source": [
        "x = 100\n",
        "x /= 5\n",
        "x"
      ],
      "metadata": {
        "colab": {
          "base_uri": "https://localhost:8080/"
        },
        "id": "1K1leI6OceKS",
        "outputId": "92b7c373-6f7c-4709-a76c-39a7b891b44a"
      },
      "execution_count": null,
      "outputs": [
        {
          "output_type": "execute_result",
          "data": {
            "text/plain": [
              "20.0"
            ]
          },
          "metadata": {},
          "execution_count": 6
        }
      ]
    },
    {
      "cell_type": "code",
      "source": [
        "x = 25\n",
        "x %= 6\n",
        "x"
      ],
      "metadata": {
        "colab": {
          "base_uri": "https://localhost:8080/"
        },
        "id": "DTO6g5r2ciXD",
        "outputId": "679e2c26-0a7f-4ffd-fa37-7a8df3842800"
      },
      "execution_count": null,
      "outputs": [
        {
          "output_type": "execute_result",
          "data": {
            "text/plain": [
              "1"
            ]
          },
          "metadata": {},
          "execution_count": 7
        }
      ]
    },
    {
      "cell_type": "code",
      "source": [
        "x = 31\n",
        "x //= 6\n",
        "x"
      ],
      "metadata": {
        "colab": {
          "base_uri": "https://localhost:8080/"
        },
        "id": "FyJH-mNscs7t",
        "outputId": "a1779837-e6da-49aa-aa01-2e6c6a323169"
      },
      "execution_count": null,
      "outputs": [
        {
          "output_type": "execute_result",
          "data": {
            "text/plain": [
              "5"
            ]
          },
          "metadata": {},
          "execution_count": 8
        }
      ]
    },
    {
      "cell_type": "code",
      "source": [
        "x = 5\n",
        "x **= 2\n",
        "x"
      ],
      "metadata": {
        "colab": {
          "base_uri": "https://localhost:8080/"
        },
        "id": "x1CU2IRzcxmQ",
        "outputId": "554d7cd7-78b0-418b-a46a-1c28f6c4a57c"
      },
      "execution_count": null,
      "outputs": [
        {
          "output_type": "execute_result",
          "data": {
            "text/plain": [
              "25"
            ]
          },
          "metadata": {},
          "execution_count": 10
        }
      ]
    },
    {
      "cell_type": "code",
      "source": [
        "#Comparison Operators (= / == / != / > / < / <= / >=)\n",
        "a = 10\n",
        "b = 25\n",
        "print(10==25)\n",
        "print(10!=25)\n",
        "print(10>25)\n",
        "print(10<25)\n",
        "print(10<=25)\n",
        "print(10>=25)\n"
      ],
      "metadata": {
        "colab": {
          "base_uri": "https://localhost:8080/"
        },
        "id": "m5QLzMQJc6is",
        "outputId": "521df60a-0338-409d-9e8d-37661a84a70c"
      },
      "execution_count": null,
      "outputs": [
        {
          "output_type": "stream",
          "name": "stdout",
          "text": [
            "False\n",
            "True\n",
            "False\n",
            "True\n",
            "True\n",
            "False\n"
          ]
        }
      ]
    },
    {
      "cell_type": "code",
      "source": [
        "# Logical Operators(And / Or / Not)\n",
        "a = 12\n",
        "print(a > 5 and a < 15)\n",
        "print(a > 5 or a < 7)\n",
        "print(not(a > 5 and a < 15))\n"
      ],
      "metadata": {
        "colab": {
          "base_uri": "https://localhost:8080/"
        },
        "id": "FafnnUx4dhP9",
        "outputId": "55ec815d-f611-42b3-f4df-c0dd14202e44"
      },
      "execution_count": null,
      "outputs": [
        {
          "output_type": "stream",
          "name": "stdout",
          "text": [
            "True\n",
            "True\n",
            "False\n"
          ]
        }
      ]
    },
    {
      "cell_type": "code",
      "source": [
        "# Identity Operators (Is / Is not)\n",
        "a = (\"Karan , rahul\")\n",
        "b = (\"karan , rahul\")\n",
        "z = a\n",
        "print(a is z)\n",
        "print(z is b)\n",
        "print(a is not b)\n",
        "print(a is not z)"
      ],
      "metadata": {
        "colab": {
          "base_uri": "https://localhost:8080/"
        },
        "id": "6YQmHUb7ebh4",
        "outputId": "6236d8c6-180c-4589-9838-45396cb0cf91"
      },
      "execution_count": null,
      "outputs": [
        {
          "output_type": "stream",
          "name": "stdout",
          "text": [
            "True\n",
            "False\n",
            "True\n",
            "False\n"
          ]
        }
      ]
    },
    {
      "cell_type": "code",
      "source": [
        "# Membership Operators (In / Not in)\n",
        "\n",
        "a = (\"apple , kiwi\")\n",
        "print(\"kiwi\"in a)\n",
        "print(\"banana\" not in a)\n"
      ],
      "metadata": {
        "colab": {
          "base_uri": "https://localhost:8080/"
        },
        "id": "Slt7gEobfnqX",
        "outputId": "ef4c7487-4ff7-4462-ca4e-5fd8a17dfd95"
      },
      "execution_count": null,
      "outputs": [
        {
          "output_type": "stream",
          "name": "stdout",
          "text": [
            "True\n",
            "True\n"
          ]
        }
      ]
    },
    {
      "cell_type": "code",
      "source": [
        ""
      ],
      "metadata": {
        "id": "JDzhPECOgjgE"
      },
      "execution_count": null,
      "outputs": []
    }
  ]
}