{
  "nbformat": 4,
  "nbformat_minor": 0,
  "metadata": {
    "colab": {
      "name": "functions.ipynb",
      "provenance": [],
      "authorship_tag": "ABX9TyOTuOF9DZwBcxyUg7CpXkWb",
      "include_colab_link": true
    },
    "kernelspec": {
      "name": "python3",
      "display_name": "Python 3"
    },
    "language_info": {
      "name": "python"
    }
  },
  "cells": [
    {
      "cell_type": "markdown",
      "metadata": {
        "id": "view-in-github",
        "colab_type": "text"
      },
      "source": [
        "<a href=\"https://colab.research.google.com/github/karankapadiya12/Python-/blob/main/functions.ipynb\" target=\"_parent\"><img src=\"https://colab.research.google.com/assets/colab-badge.svg\" alt=\"Open In Colab\"/></a>"
      ]
    },
    {
      "cell_type": "code",
      "execution_count": null,
      "metadata": {
        "colab": {
          "base_uri": "https://localhost:8080/"
        },
        "id": "OqpF-Nqk26fc",
        "outputId": "8e34b102-f7d4-4d50-e65b-f023b0628a93"
      },
      "outputs": [
        {
          "output_type": "stream",
          "name": "stdout",
          "text": [
            "45\n"
          ]
        }
      ],
      "source": [
        "def add (a,b):\n",
        "  c = a+b\n",
        "  print(c)\n",
        "\n",
        "add(20,25)"
      ]
    },
    {
      "cell_type": "code",
      "source": [
        "name = (input(\"Enter your name \"))\n",
        "def good(name):\n",
        "  \n",
        "  print(\"good\",name)\n",
        "good(\"karan\")"
      ],
      "metadata": {
        "colab": {
          "base_uri": "https://localhost:8080/"
        },
        "id": "kZuUqmCk6OwG",
        "outputId": "dd36ff02-33d5-40a6-e2cc-d77c562237f3"
      },
      "execution_count": null,
      "outputs": [
        {
          "output_type": "stream",
          "name": "stdout",
          "text": [
            "good karan\n"
          ]
        }
      ]
    },
    {
      "cell_type": "code",
      "source": [
        "def avg(a,b):\n",
        "  c = (a+b)/2\n",
        "  print(c)\n",
        "avg(25,12)\n",
        "  \n",
        "\n"
      ],
      "metadata": {
        "colab": {
          "base_uri": "https://localhost:8080/"
        },
        "id": "uDLRokls73Cb",
        "outputId": "b7951d6b-49bf-4a54-fcbe-4d5ec0c7b263"
      },
      "execution_count": null,
      "outputs": [
        {
          "output_type": "stream",
          "name": "stdout",
          "text": [
            "18.5\n"
          ]
        }
      ]
    },
    {
      "cell_type": "code",
      "source": [
        "def list(f):\n",
        "  x = []\n",
        "  for a in f:\n",
        "    if a not in x:\n",
        "      x.append(a)\n",
        "  return(x)\n",
        "\n",
        "    \n",
        "  \n"
      ],
      "metadata": {
        "id": "Xu2S3RXq55wL"
      },
      "execution_count": null,
      "outputs": []
    },
    {
      "cell_type": "code",
      "source": [
        "  list([1,1,1,2,2,2,23,3,3,32,21,23,1,5,3])\n"
      ],
      "metadata": {
        "colab": {
          "base_uri": "https://localhost:8080/"
        },
        "id": "HNxD4RyECLiJ",
        "outputId": "4740ea2c-2713-4e7e-8b63-a0d08aecfe48"
      },
      "execution_count": null,
      "outputs": [
        {
          "output_type": "execute_result",
          "data": {
            "text/plain": [
              "[1, 2, 23, 3, 32, 21, 5]"
            ]
          },
          "metadata": {},
          "execution_count": 31
        }
      ]
    },
    {
      "cell_type": "code",
      "source": [
        "def reverse_string(n):\n",
        "  l1 = len(n) \n",
        "  l2 =\"\"\n",
        "  for i in range(l1-1,-1,-1):\n",
        "    l2=l2+n[i]\n",
        "  print(l2) "
      ],
      "metadata": {
        "id": "2N4J8cdoBRWs"
      },
      "execution_count": 7,
      "outputs": []
    },
    {
      "cell_type": "code",
      "source": [
        "reverse_string(\"karan\")"
      ],
      "metadata": {
        "colab": {
          "base_uri": "https://localhost:8080/"
        },
        "id": "NpGsvERZI0QC",
        "outputId": "72447966-6473-4828-fb50-09f48f0faa53"
      },
      "execution_count": 10,
      "outputs": [
        {
          "output_type": "stream",
          "name": "stdout",
          "text": [
            "narak\n"
          ]
        }
      ]
    },
    {
      "cell_type": "code",
      "source": [
        ""
      ],
      "metadata": {
        "id": "Mj8gFR-RDT2U"
      },
      "execution_count": null,
      "outputs": []
    }
  ]
}