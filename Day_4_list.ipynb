{
  "nbformat": 4,
  "nbformat_minor": 0,
  "metadata": {
    "colab": {
      "name": "Day 4 list.ipynb",
      "provenance": [],
      "collapsed_sections": [],
      "authorship_tag": "ABX9TyNCAdZhZzFIxFdXM7euSTE+",
      "include_colab_link": true
    },
    "kernelspec": {
      "name": "python3",
      "display_name": "Python 3"
    },
    "language_info": {
      "name": "python"
    }
  },
  "cells": [
    {
      "cell_type": "markdown",
      "metadata": {
        "id": "view-in-github",
        "colab_type": "text"
      },
      "source": [
        "<a href=\"https://colab.research.google.com/github/karankapadiya12/Python-/blob/main/Day_4_list.ipynb\" target=\"_parent\"><img src=\"https://colab.research.google.com/assets/colab-badge.svg\" alt=\"Open In Colab\"/></a>"
      ]
    },
    {
      "cell_type": "code",
      "execution_count": null,
      "metadata": {
        "colab": {
          "base_uri": "https://localhost:8080/"
        },
        "id": "U9CzGhy6xxpq",
        "outputId": "f44923ea-a211-4979-8986-f10365c90f4d"
      },
      "outputs": [
        {
          "output_type": "stream",
          "name": "stdout",
          "text": [
            "[100, 'karan', 10.5]\n",
            "3\n"
          ]
        }
      ],
      "source": [
        "#list are used to store multiple items in single varible   []\n",
        "\n",
        "karan = [100 , \"karan\" , 10.5 ]\n",
        "print(karan)\n",
        "print(len(karan))\n"
      ]
    },
    {
      "cell_type": "code",
      "source": [
        "# Count\n",
        "a = [200,\"karan\",55.55,\"Apple\" , \"karan\"]\n",
        "x = a.count(\"karan\")\n",
        "x"
      ],
      "metadata": {
        "colab": {
          "base_uri": "https://localhost:8080/"
        },
        "id": "zGmKWNsH1jnC",
        "outputId": "4de24187-52f9-4929-da79-c5a265f7557d"
      },
      "execution_count": null,
      "outputs": [
        {
          "output_type": "execute_result",
          "data": {
            "text/plain": [
              "2"
            ]
          },
          "metadata": {},
          "execution_count": 36
        }
      ]
    },
    {
      "cell_type": "code",
      "source": [
        "# Extend\n",
        "X = [\"h\" , \"a\" , \"b\" , \"c\" , \"d\" , \"e\"]\n",
        "x = [\"A\" , \"B\" , \"C\" , \"D\" , \"E\"]\n",
        "\n",
        "X.extend(x)\n",
        "X\n"
      ],
      "metadata": {
        "id": "yJwa0PwB98VS",
        "colab": {
          "base_uri": "https://localhost:8080/"
        },
        "outputId": "0a9aff6b-5dcf-4bc0-a9af-6723512aa5b2"
      },
      "execution_count": null,
      "outputs": [
        {
          "output_type": "execute_result",
          "data": {
            "text/plain": [
              "['h', 'a', 'b', 'c', 'd', 'e', 'A', 'B', 'C', 'D', 'E']"
            ]
          },
          "metadata": {},
          "execution_count": 33
        }
      ]
    },
    {
      "cell_type": "code",
      "source": [
        "# indexing \n",
        "a = [\"banana\" , \"apple\" , \"kiwi\" , \"div\" , \"120\" ]\n",
        "print(a[1 : 3])\n",
        "print(a[-4 : -1])"
      ],
      "metadata": {
        "colab": {
          "base_uri": "https://localhost:8080/"
        },
        "id": "hceJvt7VD-ZG",
        "outputId": "b96bd7b6-4380-47da-b213-35a4da6b1644"
      },
      "execution_count": null,
      "outputs": [
        {
          "output_type": "stream",
          "name": "stdout",
          "text": [
            "['apple', 'kiwi']\n",
            "['apple', 'kiwi', 'div']\n"
          ]
        }
      ]
    },
    {
      "cell_type": "code",
      "source": [
        "# pop   # remove\n",
        "\n",
        "a = [\"karan\" , \"rahul\" , \"ronak\" , \"kumar\"]\n",
        "a.pop(2)\n",
        "\n",
        "a.remove(\"karan\")\n",
        "a\n",
        "\n"
      ],
      "metadata": {
        "colab": {
          "base_uri": "https://localhost:8080/"
        },
        "id": "G_lC9dmbFnue",
        "outputId": "5123db31-d5dc-48d9-e904-7070e45252b2"
      },
      "execution_count": null,
      "outputs": [
        {
          "output_type": "execute_result",
          "data": {
            "text/plain": [
              "['rahul', 'kumar']"
            ]
          },
          "metadata": {},
          "execution_count": 50
        }
      ]
    },
    {
      "cell_type": "code",
      "source": [
        "# append / insert\n",
        "\n",
        "app = [\"Top\" , \"Phone\" , \"Laptop\" ]\n",
        "app.append(\"karan\")\n",
        "app.insert(2,\"div\")\n",
        "app\n",
        "\n"
      ],
      "metadata": {
        "colab": {
          "base_uri": "https://localhost:8080/"
        },
        "id": "2zZxg_ldGobK",
        "outputId": "cadc2e51-49cf-49f3-c3a2-70b31c0e9f73"
      },
      "execution_count": null,
      "outputs": [
        {
          "output_type": "execute_result",
          "data": {
            "text/plain": [
              "['Top', 'Phone', 'div', 'Laptop', 'karan']"
            ]
          },
          "metadata": {},
          "execution_count": 56
        }
      ]
    },
    {
      "cell_type": "code",
      "source": [
        "# Sort\n",
        "\n",
        "a = [700 , 200 , 900 , 600 , 500]\n",
        "a.sort()\n",
        "a\n"
      ],
      "metadata": {
        "colab": {
          "base_uri": "https://localhost:8080/"
        },
        "id": "hMyj2LoVJGAD",
        "outputId": "02a4e7cb-8568-4c44-eb16-c0f12d0684ed"
      },
      "execution_count": null,
      "outputs": [
        {
          "output_type": "execute_result",
          "data": {
            "text/plain": [
              "[200, 500, 600, 700, 900]"
            ]
          },
          "metadata": {},
          "execution_count": 61
        }
      ]
    },
    {
      "cell_type": "code",
      "source": [
        "#Reverse\n",
        "a = [2000 , 5000 , 6000 , 4000 ]\n",
        "a.reverse()\n",
        "a"
      ],
      "metadata": {
        "colab": {
          "base_uri": "https://localhost:8080/"
        },
        "id": "mGM2gkFoJuaw",
        "outputId": "028fdb1f-0bc5-4e8e-b456-bd03f5cdec4f"
      },
      "execution_count": null,
      "outputs": [
        {
          "output_type": "execute_result",
          "data": {
            "text/plain": [
              "[4000, 6000, 5000, 2000]"
            ]
          },
          "metadata": {},
          "execution_count": 62
        }
      ]
    },
    {
      "cell_type": "code",
      "source": [
        ""
      ],
      "metadata": {
        "id": "9Lnd3Y5eK87-"
      },
      "execution_count": null,
      "outputs": []
    }
  ]
}